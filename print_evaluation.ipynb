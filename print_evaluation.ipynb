{
 "cells": [
  {
   "cell_type": "code",
   "execution_count": 20,
   "metadata": {},
   "outputs": [],
   "source": [
    "from IPython.display import HTML, display, Markdown\n",
    "import itertools\n",
    "import tabulate\n",
    "import json\n",
    "import pandas as pd\n",
    "import numpy as np\n",
    "import fileinput"
   ]
  },
  {
   "cell_type": "code",
   "execution_count": 2,
   "metadata": {},
   "outputs": [],
   "source": [
    "import config\n",
    "from evaluation import load_json, evaluate, load_evaluated, merge_results\n",
    "config = config.Evaluation\n",
    "with open(config.seed_filename) as f:\n",
    "    seeds = set([line.strip() for line in f])\n",
    "gold = set(load_json(config.gold_filename, lambda x: x['name']))\n",
    "gold = set(gold) - seeds\n",
    "results = {}\n",
    "for (evaluated_filename, field_name), k in itertools.product(\n",
    "        zip(config.evaluated_filenames, config.relevance_field_names),\n",
    "        config.topks):\n",
    "    predicted = load_evaluated(evaluated_filename, gold, seeds, field_name)\n",
    "    result = evaluate(predicted, gold, k)\n",
    "    results[(evaluated_filename, k)] = result\n",
    "results = merge_results(results)"
   ]
  },
  {
   "cell_type": "code",
   "execution_count": 3,
   "metadata": {},
   "outputs": [],
   "source": [
    "data = pd.DataFrame.from_dict(results)"
   ]
  },
  {
   "cell_type": "code",
   "execution_count": 4,
   "metadata": {},
   "outputs": [
    {
     "data": {
      "text/html": [
       "<div>\n",
       "<style scoped>\n",
       "    .dataframe tbody tr th:only-of-type {\n",
       "        vertical-align: middle;\n",
       "    }\n",
       "\n",
       "    .dataframe tbody tr th {\n",
       "        vertical-align: top;\n",
       "    }\n",
       "\n",
       "    .dataframe thead th {\n",
       "        text-align: right;\n",
       "    }\n",
       "</style>\n",
       "<table border=\"1\" class=\"dataframe\">\n",
       "  <thead>\n",
       "    <tr style=\"text-align: right;\">\n",
       "      <th></th>\n",
       "      <th>average_distance</th>\n",
       "      <th>graph_prop</th>\n",
       "      <th>tf_idf</th>\n",
       "      <th>pagerank</th>\n",
       "    </tr>\n",
       "  </thead>\n",
       "  <tbody>\n",
       "    <tr>\n",
       "      <th>mAP@100</th>\n",
       "      <td>0.003841</td>\n",
       "      <td>0.00000</td>\n",
       "      <td>0.072228</td>\n",
       "      <td>0.012619</td>\n",
       "    </tr>\n",
       "    <tr>\n",
       "      <th>p@100</th>\n",
       "      <td>0.050000</td>\n",
       "      <td>0.01000</td>\n",
       "      <td>0.210000</td>\n",
       "      <td>0.140000</td>\n",
       "    </tr>\n",
       "    <tr>\n",
       "      <th>mAP@200</th>\n",
       "      <td>0.002858</td>\n",
       "      <td>0.00023</td>\n",
       "      <td>0.043340</td>\n",
       "      <td>0.016072</td>\n",
       "    </tr>\n",
       "    <tr>\n",
       "      <th>p@200</th>\n",
       "      <td>0.045000</td>\n",
       "      <td>0.02000</td>\n",
       "      <td>0.145000</td>\n",
       "      <td>0.140000</td>\n",
       "    </tr>\n",
       "  </tbody>\n",
       "</table>\n",
       "</div>"
      ],
      "text/plain": [
       "         average_distance  graph_prop    tf_idf  pagerank\n",
       "mAP@100          0.003841     0.00000  0.072228  0.012619\n",
       "p@100            0.050000     0.01000  0.210000  0.140000\n",
       "mAP@200          0.002858     0.00023  0.043340  0.016072\n",
       "p@200            0.045000     0.02000  0.145000  0.140000"
      ]
     },
     "execution_count": 4,
     "metadata": {},
     "output_type": "execute_result"
    }
   ],
   "source": [
    "data"
   ]
  },
  {
   "cell_type": "code",
   "execution_count": 24,
   "metadata": {},
   "outputs": [
    {
     "data": {
      "text/markdown": [
       "0|1|2|3|4\n",
       "---|---|---|---|---\n",
       "**图**|**顶点**|字|网|结\n",
       "程|**结点**|字母|序|**排序**\n",
       "培训|路|网站|进程|**链**\n",
       "图画|**权**|**编码**|成|指\n",
       "问题|**树形**|形|题|**树形图**\n",
       "系统|**团**|**键**|性|**关键字**\n",
       "**最大团**|关键|路由|**序列**|人\n",
       "效|空|值|运算|态\n",
       "状态|**函数**|酒|工|成分\n",
       "点数|素|元|时|元素\n"
      ],
      "text/plain": [
       "<IPython.core.display.Markdown object>"
      ]
     },
     "metadata": {},
     "output_type": "display_data"
    }
   ],
   "source": [
    "predicted = load_evaluated('processed_data/propagation_results/tf_idf_nf_result.json', gold, seeds, '')\n",
    "# def pretty_list(l, n_rows=10):\n",
    "pdp = list(map(lambda x: '**%s**' % x if x in gold else x, predicted[:50]))\n",
    "pdp = np.array(pdp).reshape(10, -1)\n",
    "def pandas_df_to_markdown_table(df):\n",
    "    from IPython.display import Markdown, display\n",
    "    fmt = ['---' for i in range(len(df.columns))]\n",
    "    df_fmt = pd.DataFrame([fmt], columns=df.columns)\n",
    "    df_formatted = pd.concat([df_fmt, df])\n",
    "    display(Markdown(df_formatted.to_csv(sep=\"|\", index=False)))\n",
    "# n_rows = 10a\n",
    "# n_columns = len(predicted) // n_rows + 1\n",
    "pandas_df_to_markdown_table(pd.DataFrame(pdp))"
   ]
  },
  {
   "cell_type": "code",
   "execution_count": 16,
   "metadata": {},
   "outputs": [
    {
     "name": "stdout",
     "output_type": "stream",
     "text": [
      "['图', '顶点', '字', '网', '结', '程', '结点', '字母', '序', '排序', '培训', '路', '网站', '进程', '链', '图画', '权', '编码', '成', '指', '问题', '树形', '形', '题', '树形图', '系统', '团', '键', '性', '关键字']\n"
     ]
    }
   ],
   "source": [
    "print(predicted[:30])"
   ]
  },
  {
   "cell_type": "code",
   "execution_count": null,
   "metadata": {},
   "outputs": [],
   "source": []
  }
 ],
 "metadata": {
  "kernelspec": {
   "display_name": "Python 3",
   "language": "python",
   "name": "python3"
  },
  "language_info": {
   "codemirror_mode": {
    "name": "ipython",
    "version": 3
   },
   "file_extension": ".py",
   "mimetype": "text/x-python",
   "name": "python",
   "nbconvert_exporter": "python",
   "pygments_lexer": "ipython3",
   "version": "3.7.5"
  }
 },
 "nbformat": 4,
 "nbformat_minor": 4
}
